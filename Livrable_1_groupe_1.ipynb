{
 "cells": [
  {
   "cell_type": "markdown",
   "id": "1293f2c6",
   "metadata": {},
   "source": [
    "# Livrable 1 : Modélisation  du problème"
   ]
  },
  {
   "cell_type": "markdown",
   "id": "62558bc8",
   "metadata": {},
   "source": [
    "## 1. Contexte\n",
    "\n",
    "Dans le but de l’amélioration des modes de transport et la réduction de la pollution, l’entreprise ADEME a récemment lancé un appel à manifestation d'intérêt. Le but est de promouvoir la réalisation de démonstrateurs et d'expérimentations de nouvelles solutions de mobilité pour les personnes et les marchandises adaptées à différents types de territoires.\n",
    "\n",
    "Étant connue dans le milieu de Mobilité Multimodale Intelligente notre société, CesiCDP, a répondu à l’appel d’offres de ADEME."
   ]
  },
  {
   "cell_type": "markdown",
   "id": "04d60fd9",
   "metadata": {},
   "source": [
    "## 2. Définition du périmètre d'étude du problème "
   ]
  },
  {
   "cell_type": "markdown",
   "id": "77e402dd",
   "metadata": {},
   "source": [
    "### 1. Reformulation du problème : \n",
    "\n",
    "Nous avons donc pour objectif de trouver un itinéraire passant par tous les points de livraison, tout en veillant à retourner au point de départ, et en prenant le moins de temps possible."
   ]
  },
  {
   "cell_type": "markdown",
   "id": "b1aab85d",
   "metadata": {},
   "source": [
    "### 2. Rappel des objectifs de l'étude :\n",
    "\n",
    "Par conséquent, nous devons avant tout générer une tournée de livraison, par un graphe, on peut considérer **les villes comme sommets** et **les axes routiers comme arêtes** de notre graphe.\n",
    "À la suite de cela, on doit optimiser le trafic entre chaque axe routier, et pour ce faire, on va réaliser une étude statistique du comportement du trafic."
   ]
  },
  {
   "cell_type": "markdown",
   "id": "e48641e1",
   "metadata": {},
   "source": [
    "### 3. Explication des contraintes :\n",
    "\n",
    "La contrainte principale est que l'on doit passer par tous les points de livraison et s'assurer de pouvoir retourner au point de départ, à l'entrepôt des camions.\n",
    "En plus, nous avons choisi d'avoir à passer par des entrepots de stockage pour récuperer les objets à livrer, avant la tournée de livraison."
   ]
  },
  {
   "cell_type": "markdown",
   "id": "430c29b2",
   "metadata": {},
   "source": [
    "## 3. Etude de complexité du problème\n",
    "\n",
    "Pour le problème de planification de tournées de véhicules, la complexité est **NP-difficile**.\n",
    "> C’est-à-dire qu’il n’existe pas à ce jour d’algorithme déterministe pouvant résoudre ce problème en temps polynomial.\n",
    "Cette complexité s'étend aussi à notre problème de tournées de véhicules à fenêtre de temps."
   ]
  },
  {
   "cell_type": "markdown",
   "id": "201de95f",
   "metadata": {},
   "source": [
    "### 1. Identification du problème à un problème d'étude connu :\n",
    "\n",
    "Le problème d'étude connu que nous avons trouvé en commun avec le nôtre est le \"Problème des tournées de véhicules avec fenêtre de temps\". C'est une extension du \"Problème de planification de tournées de véhicules\" (Abordé et défini pour la première fois par Dantzig et Ramser (1959)), qui consiste à déterminer les tournées d'une flotte de véhicules afin de livrer une liste de clients, ou de réaliser des tournées d'interventions ou de visites. \n",
    "\n",
    "Le problème de la gestion de tournées de véhicules avec fenêtres de temps est \n",
    "considéré par [Solomon 1987], [Duhamel 2001]. Ce problème rajoute une contrainte temporelle sur le service demandé. C'est-à-dire que chaque client dispose d'une fenêtre de temps à laquelle il désire être servi."
   ]
  },
  {
   "cell_type": "markdown",
   "id": "2954e11c",
   "metadata": {},
   "source": [
    "## 4. Modélisation du problème\n",
    "\n",
    "Nous avons décidé pour expliquer notre démarche de choisir quelques villes parmi une soruce de données réelles \n",
    "Voici ci-dessous la source de données que nous avons utilisé pour déterminer la distance entre les villes :\n",
    "![](/\n"
   ]
  },
  {
   "cell_type": "markdown",
   "id": "97300af5",
   "metadata": {},
   "source": [
    "## Liens bibliographiques\n",
    "\n",
    "- Thomas Chabot - \"RÉSOLUTION DES PROBLÈMES DE TOURNÉES DE VÉHICULES POUR LE TRANSPORT DES ÉCHANTILLONS BIOMÉDICAUX AU QUÉBEC\" https://corpus.ulaval.ca/jspui/bitstream/20.500.11794/26365/1/31447.pdf (2015)\n",
    "\n",
    "- XU Jian - \"Modèles stochastiques évolutionnaires pour la gestion de tournées de véhicules avec fenêtres de temps souples et demandes floues\" \n",
    "https://www.lgi2a.univ-artois.fr/spip/IMG/pdf/these_jian_xu.pdf (18 décembre 2007)\n",
    "\n"
   ]
  },
  {
   "cell_type": "code",
   "execution_count": null,
   "id": "d31d87a2",
   "metadata": {},
   "outputs": [],
   "source": []
  }
 ],
 "metadata": {
  "kernelspec": {
   "display_name": "Python 3 (ipykernel)",
   "language": "python",
   "name": "python3"
  },
  "language_info": {
   "codemirror_mode": {
    "name": "ipython",
    "version": 3
   },
   "file_extension": ".py",
   "mimetype": "text/x-python",
   "name": "python",
   "nbconvert_exporter": "python",
   "pygments_lexer": "ipython3",
   "version": "3.9.10"
  }
 },
 "nbformat": 4,
 "nbformat_minor": 5
}
